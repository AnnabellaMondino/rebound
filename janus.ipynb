{
 "cells": [
  {
   "cell_type": "code",
   "execution_count": 1,
   "metadata": {
    "collapsed": false
   },
   "outputs": [
    {
     "name": "stdout",
     "output_type": "stream",
     "text": [
      "Jan 30 2017 13:35:37\n"
     ]
    }
   ],
   "source": [
    "import rebound, os\n",
    "print(rebound.__build__)\n",
    "import numpy as np\n",
    "import warnings,glob\n",
    "with warnings.catch_warnings():\n",
    "    warnings.simplefilter(\"ignore\")\n",
    "    %matplotlib inline\n",
    "    import matplotlib.pyplot as plt"
   ]
  },
  {
   "cell_type": "code",
   "execution_count": 7,
   "metadata": {
    "collapsed": false
   },
   "outputs": [],
   "source": [
    "if not os.path.isfile(\"janus_init.bin\"):\n",
    "    sim = rebound.Simulation()\n",
    "    sim.add([\"Sun\",\"Mercury\",\"Venus\",\"Earth\",\"Mars\",\"Jupiter\",\"Saturn\",\"Uranus\",\"Neptune\"])\n",
    "    sim.save(\"janus_init.bin\")\n",
    "sim = rebound.Simulation.from_file(\"janus_init.bin\")\n",
    "sim.move_to_com()\n",
    "sim.integrator = \"janus\"\n",
    "sim.ri_janus.integrator = 1\n",
    "sim.ri_janus.scale = 1e20\n",
    "sim.dt = 0.08/365.25*2.*np.pi\n",
    "#sim.getWidget()"
   ]
  },
  {
   "cell_type": "code",
   "execution_count": 8,
   "metadata": {
    "collapsed": true
   },
   "outputs": [],
   "source": [
    "N = 100\n",
    "times = np.logspace(-1,3,N)\n",
    "E0 = sim.calculate_energy()\n",
    "energy = np.zeros((N))"
   ]
  },
  {
   "cell_type": "code",
   "execution_count": 9,
   "metadata": {
    "collapsed": false
   },
   "outputs": [],
   "source": [
    "for i,t in enumerate(times):\n",
    "    sim.integrate(t,exact_finish_time=0)\n",
    "    energy[i] = np.abs((sim.calculate_energy()-E0)/E0)"
   ]
  },
  {
   "cell_type": "code",
   "execution_count": 10,
   "metadata": {
    "collapsed": false
   },
   "outputs": [
    {
     "data": {
      "image/png": "[encoded data removed]",
      "text/plain": [
       "<matplotlib.figure.Figure at 0x111bb1d30>"
      ]
     },
     "metadata": {},
     "output_type": "display_data"
    }
   ],
   "source": [
    "fig = plt.figure(figsize=(12, 4)) \n",
    "ax = plt.subplot(111)\n",
    "ax.set_xscale(\"log\")\n",
    "ax.set_yscale(\"log\")\n",
    "ax.scatter(times, energy);"
   ]
  },
  {
   "cell_type": "code",
   "execution_count": 6,
   "metadata": {
    "collapsed": false
   },
   "outputs": [
    {
     "name": "stdout",
     "output_type": "stream",
     "text": [
      "0.0001376193907116679 6.32049262514e-10\n"
     ]
    }
   ],
   "source": [
    "print(sim.dt, np.max(energy))"
   ]
  },
  {
   "cell_type": "code",
   "execution_count": 11,
   "metadata": {
    "collapsed": false
   },
   "outputs": [
    {
     "name": "stdout",
     "output_type": "stream",
     "text": [
      "0.0013761939071166786 6.377292313e-08\n"
     ]
    }
   ],
   "source": [
    "print(sim.dt, np.max(energy))"
   ]
  },
  {
   "cell_type": "code",
   "execution_count": 24,
   "metadata": {
    "collapsed": false
   },
   "outputs": [
    {
     "name": "stdout",
     "output_type": "stream",
     "text": [
      "0.013761939071166787 0.000134276365823\n"
     ]
    }
   ],
   "source": [
    "print(sim.dt, np.max(energy))"
   ]
  },
  {
   "cell_type": "code",
   "execution_count": 29,
   "metadata": {
    "collapsed": false
   },
   "outputs": [
    {
     "name": "stdout",
     "output_type": "stream",
     "text": [
      "0.13761939071166787 0.0017090878559\n"
     ]
    }
   ],
   "source": [
    "print(sim.dt, np.max(energy))"
   ]
  },
  {
   "cell_type": "code",
   "execution_count": 6,
   "metadata": {
    "collapsed": false
   },
   "outputs": [
    {
     "name": "stdout",
     "output_type": "stream",
     "text": [
      "0.13761939071166787 0.000754789365949\n"
     ]
    }
   ],
   "source": [
    "print(sim.dt, np.max(energy))"
   ]
  },
  {
   "cell_type": "code",
   "execution_count": 11,
   "metadata": {
    "collapsed": false
   },
   "outputs": [
    {
     "name": "stdout",
     "output_type": "stream",
     "text": [
      "0.013761939071166787 6.92097785244e-05\n"
     ]
    }
   ],
   "source": [
    "print(sim.dt, np.max(energy))"
   ]
  },
  {
   "cell_type": "code",
   "execution_count": 16,
   "metadata": {
    "collapsed": false
   },
   "outputs": [
    {
     "name": "stdout",
     "output_type": "stream",
     "text": [
      "0.0013761939071166786 6.96943293986e-06\n"
     ]
    }
   ],
   "source": [
    "print(sim.dt, np.max(energy))"
   ]
  },
  {
   "cell_type": "code",
   "execution_count": 21,
   "metadata": {
    "collapsed": false
   },
   "outputs": [
    {
     "name": "stdout",
     "output_type": "stream",
     "text": [
      "0.0001376193907116679 6.97630353875e-07\n"
     ]
    }
   ],
   "source": [
    "print(sim.dt, np.max(energy))"
   ]
  },
  {
   "cell_type": "code",
   "execution_count": null,
   "metadata": {
    "collapsed": true
   },
   "outputs": [],
   "source": []
  }
 ],
 "metadata": {
  "kernelspec": {
   "display_name": "Python 3",
   "language": "python",
   "name": "python3"
  },
  "language_info": {
   "codemirror_mode": {
    "name": "ipython",
    "version": 3
   },
   "file_extension": ".py",
   "mimetype": "text/x-python",
   "name": "python",
   "nbconvert_exporter": "python",
   "pygments_lexer": "ipython3",
   "version": "3.5.2"
  }
 },
 "nbformat": 4,
 "nbformat_minor": 1
}
