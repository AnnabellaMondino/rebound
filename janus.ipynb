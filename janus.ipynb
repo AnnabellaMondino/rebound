{
 "cells": [
  {
   "cell_type": "code",
   "execution_count": 1,
   "metadata": {
    "collapsed": false
   },
   "outputs": [
    {
     "name": "stdout",
     "output_type": "stream",
     "text": [
      "Jan 31 2017 17:59:09\n"
     ]
    }
   ],
   "source": [
    "import rebound, os\n",
    "print(rebound.__build__)\n",
    "import numpy as np\n",
    "import warnings,glob\n",
    "with warnings.catch_warnings():\n",
    "    warnings.simplefilter(\"ignore\")\n",
    "    %matplotlib inline\n",
    "    import matplotlib.pyplot as plt"
   ]
  },
  {
   "cell_type": "code",
   "execution_count": 31,
   "metadata": {
    "collapsed": false
   },
   "outputs": [],
   "source": [
    "if not os.path.isfile(\"janus_init.bin\"):\n",
    "    sim = rebound.Simulation()\n",
    "    sim.add([\"Sun\",\"Mercury\",\"Venus\",\"Earth\",\"Mars\",\"Jupiter\",\"Saturn\",\"Uranus\",\"Neptune\"])\n",
    "    sim.save(\"janus_init.bin\")\n",
    "sim = rebound.Simulation.from_file(\"janus_init.bin\")\n",
    "sim.move_to_com()\n",
    "sim.integrator = \"janus\"\n",
    "sim.ri_janus.scale = 1e20\n",
    "sim.dt = 0.8/365.25*2.*np.pi\n",
    "#sim.getWidget()"
   ]
  },
  {
   "cell_type": "code",
   "execution_count": 32,
   "metadata": {
    "collapsed": true
   },
   "outputs": [],
   "source": [
    "N = 1000\n",
    "times = np.logspace(-1,6,N)\n",
    "E0 = sim.calculate_energy()\n",
    "energy = np.zeros((N))"
   ]
  },
  {
   "cell_type": "code",
   "execution_count": null,
   "metadata": {
    "collapsed": false
   },
   "outputs": [],
   "source": [
    "for i,t in enumerate(times):\n",
    "    sim.integrate(t,exact_finish_time=0)\n",
    "    energy[i] = np.abs((sim.calculate_energy()-E0)/E0)"
   ]
  },
  {
   "cell_type": "code",
   "execution_count": null,
   "metadata": {
    "collapsed": false
   },
   "outputs": [],
   "source": [
    "fig = plt.figure(figsize=(12, 4)) \n",
    "ax = plt.subplot(111)\n",
    "ax.set_xscale(\"log\")\n",
    "ax.set_yscale(\"log\")\n",
    "ax.scatter(times, energy);"
   ]
  },
  {
   "cell_type": "code",
   "execution_count": null,
   "metadata": {
    "collapsed": true
   },
   "outputs": [],
   "source": []
  },
  {
   "cell_type": "code",
   "execution_count": 16,
   "metadata": {
    "collapsed": false
   },
   "outputs": [
    {
     "name": "stdout",
     "output_type": "stream",
     "text": [
      "0.09185065340468768\n",
      "-0.42253112599538223\n",
      "0.09185065340468768\n"
     ]
    }
   ],
   "source": [
    "print(sim.particles[5].vx)\n",
    "for i in range(100000):\n",
    "    sim.step()\n",
    "print(sim.particles[5].vx)\n",
    "sim.dt *= -1\n",
    "for i in range(100000):\n",
    "    sim.step()\n",
    "print(sim.particles[5].vx)"
   ]
  }
 ],
 "metadata": {
  "kernelspec": {
   "display_name": "Python 3",
   "language": "python",
   "name": "python3"
  },
  "language_info": {
   "codemirror_mode": {
    "name": "ipython",
    "version": 3
   },
   "file_extension": ".py",
   "mimetype": "text/x-python",
   "name": "python",
   "nbconvert_exporter": "python",
   "pygments_lexer": "ipython3",
   "version": "3.5.2"
  }
 },
 "nbformat": 4,
 "nbformat_minor": 1
}
